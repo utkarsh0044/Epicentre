{
  "nbformat": 4,
  "nbformat_minor": 0,
  "metadata": {
    "colab": {
      "provenance": [],
      "history_visible": true,
      "authorship_tag": "ABX9TyMqL6D/8BtF0/x/uqR8hTST",
      "include_colab_link": true
    },
    "kernelspec": {
      "name": "python3",
      "display_name": "Python 3"
    },
    "language_info": {
      "name": "python"
    }
  },
  "cells": [
    {
      "cell_type": "markdown",
      "metadata": {
        "id": "view-in-github",
        "colab_type": "text"
      },
      "source": [
        "<a href=\"https://colab.research.google.com/github/utkarsh0044/Epicentre/blob/main/Epicentre.ipynb\" target=\"_parent\"><img src=\"https://colab.research.google.com/assets/colab-badge.svg\" alt=\"Open In Colab\"/></a>"
      ]
    },
    {
      "cell_type": "code",
      "source": [
        "!pip install pytube moviepy SpeechRecognition\n",
        "\n",
        "\n",
        "\n",
        "import moviepy.editor as mp\n",
        "import speech_recognition as sr\n",
        "import os\n",
        "from pytube import YouTube\n",
        "\n",
        "# YouTube video URL\n",
        "video_url = \"https://www.youtube.com/watch?v=wHTcrmhskto&ab_channel=Fireship\"\n",
        "\n",
        "# Download the YouTube video\n",
        "youtube = YouTube(video_url)\n",
        "video = youtube.streams.first()\n",
        "video_path = video.download()\n",
        "\n",
        "# Extract audio from the video\n",
        "video = mp.VideoFileClip(video_path)\n",
        "audio = video.audio\n",
        "\n",
        "# Save the extracted audio as a temporary WAV file\n",
        "temp_audio_path = \"/content/temp_audio.wav\"\n",
        "audio.write_audiofile(temp_audio_path)\n",
        "\n",
        "# Initialize the speech recognizer\n",
        "recognizer = sr.Recognizer()\n",
        "\n",
        "# Load the extracted audio file\n",
        "with sr.AudioFile(temp_audio_path) as source:\n",
        "    # Read the audio data from the file\n",
        "    audio_data = recognizer.record(source)\n",
        "\n",
        "    # Perform speech recognition\n",
        "    text = recognizer.recognize_sphinx(audio_data)\n",
        "    paragraph = \" \".join(text)\n",
        "\n",
        "    # Print the recognized text\n",
        "    print(\"Recognized Text:\")\n",
        "    print(text)\n",
        "\n",
        "# Delete the temporary files\n",
        "os.remove(temp_audio_path)\n",
        "os.remove(video_path)\n"
      ],
      "metadata": {
        "id": "5U_cUdMW3Idv",
        "colab": {
          "base_uri": "https://localhost:8080/"
        },
        "outputId": "607245f9-6da0-428f-a6b6-e5a7553df894"
      },
      "execution_count": 12,
      "outputs": [
        {
          "output_type": "stream",
          "name": "stdout",
          "text": [
            "Looking in indexes: https://pypi.org/simple, https://us-python.pkg.dev/colab-wheels/public/simple/\n",
            "Requirement already satisfied: pytube in /usr/local/lib/python3.10/dist-packages (15.0.0)\n",
            "Requirement already satisfied: moviepy in /usr/local/lib/python3.10/dist-packages (1.0.3)\n",
            "Requirement already satisfied: SpeechRecognition in /usr/local/lib/python3.10/dist-packages (3.10.0)\n",
            "Requirement already satisfied: decorator<5.0,>=4.0.2 in /usr/local/lib/python3.10/dist-packages (from moviepy) (4.4.2)\n",
            "Requirement already satisfied: tqdm<5.0,>=4.11.2 in /usr/local/lib/python3.10/dist-packages (from moviepy) (4.65.0)\n",
            "Requirement already satisfied: requests<3.0,>=2.8.1 in /usr/local/lib/python3.10/dist-packages (from moviepy) (2.27.1)\n",
            "Requirement already satisfied: proglog<=1.0.0 in /usr/local/lib/python3.10/dist-packages (from moviepy) (0.1.10)\n",
            "Requirement already satisfied: numpy>=1.17.3 in /usr/local/lib/python3.10/dist-packages (from moviepy) (1.22.4)\n",
            "Requirement already satisfied: imageio<3.0,>=2.5 in /usr/local/lib/python3.10/dist-packages (from moviepy) (2.25.1)\n",
            "Requirement already satisfied: imageio-ffmpeg>=0.2.0 in /usr/local/lib/python3.10/dist-packages (from moviepy) (0.4.8)\n",
            "Requirement already satisfied: pillow>=8.3.2 in /usr/local/lib/python3.10/dist-packages (from imageio<3.0,>=2.5->moviepy) (8.4.0)\n",
            "Requirement already satisfied: urllib3<1.27,>=1.21.1 in /usr/local/lib/python3.10/dist-packages (from requests<3.0,>=2.8.1->moviepy) (1.26.15)\n",
            "Requirement already satisfied: certifi>=2017.4.17 in /usr/local/lib/python3.10/dist-packages (from requests<3.0,>=2.8.1->moviepy) (2022.12.7)\n",
            "Requirement already satisfied: charset-normalizer~=2.0.0 in /usr/local/lib/python3.10/dist-packages (from requests<3.0,>=2.8.1->moviepy) (2.0.12)\n",
            "Requirement already satisfied: idna<4,>=2.5 in /usr/local/lib/python3.10/dist-packages (from requests<3.0,>=2.8.1->moviepy) (3.4)\n",
            "MoviePy - Writing audio in /content/temp_audio.wav\n"
          ]
        },
        {
          "output_type": "stream",
          "name": "stderr",
          "text": []
        },
        {
          "output_type": "stream",
          "name": "stdout",
          "text": [
            "MoviePy - Done.\n",
            "Recognized Text:\n",
            "in the beginning god created when one final it was an information superhighway and documents connected together by hyperlinks and it was getting around two thousand four we saw the emergence of what you pointed out for more people start participate in the webster platforms like we stood huge huge winner in many others that led to massive centralized thai corporations to dominate the flow of information and money on the internet we live in interesting times because we're the tipping point one three one of the de centralized and secure your network people can exchange money and information without the need for unnecessary middleman like it didn't work tech corporation to the studio is a complete introduction into the wild world of one three point out as experienced over this whole going to get into because it makes you feel like you know nothing against what's a delicate ecosystem from a high level and try to answer all the stupid question so you haven't you first came into it like he is what's real height and should be symbolic getting into it i would say yes to bolt is obviously a top high ground work for you but not everyone's buying that even papa you want said that it sounds like yes to stick you daisy and above the vision of putting the weapon enhance the people but the reality is that many of these companies in the differences that the issue are controlled by walter topless in silicon valley insiders that's not always the case but much of the industry is propped up by beaumont and as it wants scans and she stopped to watch out for an error smart people out there making every good argument about how well the readers of how the computing power been wet or storage to scale on any practical level officials out there also you that could toes when thousand eight hundred and was the nineties but that's a delmore didn't because crypto is built on top of the n. itself you can use the same logic for to talk erdos ever going to be as revolutionary as the internet was but that doesn't mean it's not going to be a good deal he is i'll get it i think the best case scenario is that it's like nineteen ninety two and things are just getting started when three is going to grow for another ten years and when to revolutionize the way the world works on the other hand the worst case is that decorative currency bubble asserted first and as a crashes it's going to take when three down with it for perspective when the dock on bubble burst the stock of amazon decline by ninety percent in there one of the lucky companies that actually survived it to cleanse ninety percent just imagine what that will do to hash out when three of my next question is do we even need cricket currency to bill designed for stocks adult city socialized out on this channel just a few months ago with the dungeon aspin uses photography and web technologies and has no requirement for watching technology all the socialist ideas been around forever computer file shine with master back in the nineties corbett torrent which has a hundred million monthly active users that being set up a currency is spoken of essential because you need some form of payment to build up between or connie and banks are not an acceptable solution or it also provides an incentive for people to provide the view of the structure that make the whole thing possible speaking of which has a decent flies have worked out on the block to work with susie utterly abortion as our sample although there are many alternatives were different tradeoffs out and bacterium is like a giant network of computers were all the participants agree on the same state of the dia throughout the network now either is the crypto currency on the internet work which is used to create transactions that changed the state of the data when you broadcast transaction you also offer up a small amount either which provides incentives for another computer in the network to execute a transaction this is also called it yeah speed and conceptually it somewhere to paint it of us were clouded in resources if you want things done faster you pay more gas normally when you filled it with application and you write some back entered in deploy its reason for several white heat of the last forty cents was out on the auction in your back entered is contained in his work on track usually written us with the language which is just an application that was on the watch and backing down from the behavior between multiple account state essential as apples is to have a friend and wish to be bill just like in one side except for the fact that user authentication works in a completely different way and so how does usury ted's team work in a de centralize out of what went to point out the end user who owns all thirty that there's no need for you the developer to collect it isn't in password the end user has a public will address that to receive payments and a prodigy back inside transactions to sandinista someone else user to connect their wallets referrals upward and whatnot and ask your friend an application which he react outward sample didn't interact with that uses wallet to do something interesting and you walk like purchasing an anti them but what is an empty will actually what is a token it took to his just additional assets we are delighted one example of this video either the currency of their income it's a digital asset that you can trade with other people but the cool thing is that developers concrete or some tokens in the form of spark contracts it's basically just a number it is more contract now too important for us in fact if i wanted to create my own cryptic currency they do so by readiness for contract marriages myself an initial balance of one corporal incidents which i can insult you for one dollar pot did you select your friends for two dollars then they sought to their friends for three dollars and we'll get super rich now in that sounds like a ponzi scheme but everything is a goddamn ponzi scheme with u. s. dollar be the leader of the space so no need to worry about ethics or eight annas example we've created a plunge washington which means that once again is always the same value as another token of the same size one coin is oars were the exact same as in other point but some guns can also represent assets that are not exactly white what baseball cards we was a digital art work and stuff like that these are examples of non floodwater pants he shook it is unique and represents a different item which means that it's actual market value might be different when you go to trade it in for some other kind of currency you've probably seen in antifreeze with entire market places like open seas popping out to sell to shore work as nonpolitical tokens which is actually a great example of a highly polished where three no one switch gears and talk about technology what is different and everywhere three application look like for the most part it's not much different than a normal went out the likely using you why library like react along with all your other riverfront tools things become different ways are talking about user authentication because like i mentioned earlier the end user uses a plug in like manner mask to make their public wallet details available to eighty cents why stop now the question becomes how we as developers connect to madame asked it's actually really easy because madame ass creates a global object on the browser window that we can use to access details about the wallet now figuring out what to do with the stairs actually to recall the kid but what leaders wipers out there to make her lives easier but to most popular options are wept reduction as yet either side should ask they provided shop a statistic yeah i'd make him much easier to interact with the end user stands for contracts on the porch and use the example of how the process by what we created provider with the window material objects which is you sitting pretty sign or even think about as baker hughes are within the next race were contracts been changed stated it which will require the users approval in is based on logic in this bar conference itself and that's all it really takes to initiate friends action on the front and the friends of his principal bob what is the back and look like and where three application well is probably a lot different when you use you as an old time you went all over instead of answering to base like huge yen minus you well you'll be writings were contracts there are three works out there are designed to streamline development to the most popular options are hard hat and truffle you happen to project though did you replace readies for contract in the solidity programming language another one hundred second year of your home or more but it's basically an object words of language designed specifically for runs for contracts on the porch and that may sound intimidating but there is a product out there called opens up one that's right someplace for writings were contracts that apply to industry standards make it extremely easy to implement reliable cannot dictate now the other thing a developments washington for you is providers script to the players were contracted up watching it's just as simple good script that signs a contract with your credentials and replace it to an address on the block and now you might be wondering how the white house this terrible for the pointed the desire of no idea does that actually works that's another thing that we're having trial for to help you out with the king created testing a workable co host been generated by a truck will address is loaded with a quick to note that you can use for testing and the browsers you can connect that amounts to your testing at work instead of operating on the actual appearing to work in addition if you're going to syria zap you should consider writing on it has four and is it by recalled waffle they can help you do that that's what a visit to socialize got looks like bob one more stupid question i have is to do my store all my didn't watch and the answer is no it's not efficient were necessary to store everything in the porch and that's we're off shane storage comes in in some cases the mighty two largest for abortion or invited to be modified were completed which is not possible in a watching world today that is we only the most common solution is the interplanetary pile system or ikea fast it's a decent flies way to share files there is a more subtle way pitchfork works and is also to base is built on top of ikea fast like we're big t. v. and thread t. b. which is to know why keep your appear version of maude did you if you've made it does for the video you might be thinking about three looks awesome but highlighted started i'm working on a full step by step tutorials that'll be out of the channels in some measure subscribe to catch that the easiest way to start messing around stark contrast this with a remake side yates april's of the school that will handle the compilation everything for yields are you not to mess around with a drama skirt on youtube there are a couple of religion channels of our mention one is hash lives for working with axes any other one is measured out it just for all round was unrelated to wait three bombing and wrap things up there is yet more questions about what three flamingo on the comments in i'm curious to know if you think that there is the future for getting adjusted did not in her thanks for watching and i will see you next one\n"
          ]
        }
      ]
    }
  ]
}